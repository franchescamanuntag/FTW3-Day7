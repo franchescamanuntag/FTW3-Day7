{
  "nbformat": 4,
  "nbformat_minor": 0,
  "metadata": {
    "colab": {
      "name": "HW - Clustering.ipynb",
      "provenance": [],
      "collapsed_sections": [],
      "toc_visible": true
    },
    "kernelspec": {
      "name": "python3",
      "display_name": "Python 3"
    }
  },
  "cells": [
    {
      "cell_type": "code",
      "metadata": {
        "id": "lc-uZ_ZhN44k",
        "colab_type": "code",
        "colab": {}
      },
      "source": [
        "import pandas as pd\n",
        "import numpy as np\n",
        "import matplotlib.pyplot as plt\n",
        "import seaborn as sns"
      ],
      "execution_count": 0,
      "outputs": []
    },
    {
      "cell_type": "markdown",
      "metadata": {
        "id": "LheBPT9zOi03",
        "colab_type": "text"
      },
      "source": [
        "### Load Data"
      ]
    },
    {
      "cell_type": "code",
      "metadata": {
        "id": "JXDvb0xDOQ98",
        "colab_type": "code",
        "colab": {}
      },
      "source": [
        "data = pd.read_csv(\"credit_card_clustering.csv\")"
      ],
      "execution_count": 0,
      "outputs": []
    },
    {
      "cell_type": "code",
      "metadata": {
        "id": "riPA2EWpOUZa",
        "colab_type": "code",
        "outputId": "f1d068c7-29f4-4ffa-95c6-db31e433156f",
        "colab": {
          "base_uri": "https://localhost:8080/",
          "height": 224
        }
      },
      "source": [
        "data.head()"
      ],
      "execution_count": 105,
      "outputs": [
        {
          "output_type": "execute_result",
          "data": {
            "text/html": [
              "<div>\n",
              "<style scoped>\n",
              "    .dataframe tbody tr th:only-of-type {\n",
              "        vertical-align: middle;\n",
              "    }\n",
              "\n",
              "    .dataframe tbody tr th {\n",
              "        vertical-align: top;\n",
              "    }\n",
              "\n",
              "    .dataframe thead th {\n",
              "        text-align: right;\n",
              "    }\n",
              "</style>\n",
              "<table border=\"1\" class=\"dataframe\">\n",
              "  <thead>\n",
              "    <tr style=\"text-align: right;\">\n",
              "      <th></th>\n",
              "      <th>CUST_ID</th>\n",
              "      <th>BALANCE</th>\n",
              "      <th>BALANCE_FREQUENCY</th>\n",
              "      <th>PURCHASES</th>\n",
              "      <th>ONEOFF_PURCHASES</th>\n",
              "      <th>INSTALLMENTS_PURCHASES</th>\n",
              "      <th>CASH_ADVANCE</th>\n",
              "      <th>PURCHASES_FREQUENCY</th>\n",
              "      <th>ONEOFF_PURCHASES_FREQUENCY</th>\n",
              "      <th>PURCHASES_INSTALLMENTS_FREQUENCY</th>\n",
              "      <th>CASH_ADVANCE_FREQUENCY</th>\n",
              "      <th>CASH_ADVANCE_TRX</th>\n",
              "      <th>PURCHASES_TRX</th>\n",
              "      <th>CREDIT_LIMIT</th>\n",
              "      <th>PAYMENTS</th>\n",
              "      <th>MINIMUM_PAYMENTS</th>\n",
              "      <th>PRC_FULL_PAYMENT</th>\n",
              "      <th>TENURE</th>\n",
              "    </tr>\n",
              "  </thead>\n",
              "  <tbody>\n",
              "    <tr>\n",
              "      <th>0</th>\n",
              "      <td>C10001</td>\n",
              "      <td>40.900749</td>\n",
              "      <td>0.818182</td>\n",
              "      <td>95.40</td>\n",
              "      <td>0.00</td>\n",
              "      <td>95.4</td>\n",
              "      <td>0.000000</td>\n",
              "      <td>0.166667</td>\n",
              "      <td>0.000000</td>\n",
              "      <td>0.083333</td>\n",
              "      <td>0.000000</td>\n",
              "      <td>0</td>\n",
              "      <td>2</td>\n",
              "      <td>1000.0</td>\n",
              "      <td>201.802084</td>\n",
              "      <td>139.509787</td>\n",
              "      <td>0.000000</td>\n",
              "      <td>12</td>\n",
              "    </tr>\n",
              "    <tr>\n",
              "      <th>1</th>\n",
              "      <td>C10002</td>\n",
              "      <td>3202.467416</td>\n",
              "      <td>0.909091</td>\n",
              "      <td>0.00</td>\n",
              "      <td>0.00</td>\n",
              "      <td>0.0</td>\n",
              "      <td>6442.945483</td>\n",
              "      <td>0.000000</td>\n",
              "      <td>0.000000</td>\n",
              "      <td>0.000000</td>\n",
              "      <td>0.250000</td>\n",
              "      <td>4</td>\n",
              "      <td>0</td>\n",
              "      <td>7000.0</td>\n",
              "      <td>4103.032597</td>\n",
              "      <td>1072.340217</td>\n",
              "      <td>0.222222</td>\n",
              "      <td>12</td>\n",
              "    </tr>\n",
              "    <tr>\n",
              "      <th>2</th>\n",
              "      <td>C10003</td>\n",
              "      <td>2495.148862</td>\n",
              "      <td>1.000000</td>\n",
              "      <td>773.17</td>\n",
              "      <td>773.17</td>\n",
              "      <td>0.0</td>\n",
              "      <td>0.000000</td>\n",
              "      <td>1.000000</td>\n",
              "      <td>1.000000</td>\n",
              "      <td>0.000000</td>\n",
              "      <td>0.000000</td>\n",
              "      <td>0</td>\n",
              "      <td>12</td>\n",
              "      <td>7500.0</td>\n",
              "      <td>622.066742</td>\n",
              "      <td>627.284787</td>\n",
              "      <td>0.000000</td>\n",
              "      <td>12</td>\n",
              "    </tr>\n",
              "    <tr>\n",
              "      <th>3</th>\n",
              "      <td>C10004</td>\n",
              "      <td>1666.670542</td>\n",
              "      <td>0.636364</td>\n",
              "      <td>1499.00</td>\n",
              "      <td>1499.00</td>\n",
              "      <td>0.0</td>\n",
              "      <td>205.788017</td>\n",
              "      <td>0.083333</td>\n",
              "      <td>0.083333</td>\n",
              "      <td>0.000000</td>\n",
              "      <td>0.083333</td>\n",
              "      <td>1</td>\n",
              "      <td>1</td>\n",
              "      <td>7500.0</td>\n",
              "      <td>0.000000</td>\n",
              "      <td>NaN</td>\n",
              "      <td>0.000000</td>\n",
              "      <td>12</td>\n",
              "    </tr>\n",
              "    <tr>\n",
              "      <th>4</th>\n",
              "      <td>C10005</td>\n",
              "      <td>817.714335</td>\n",
              "      <td>1.000000</td>\n",
              "      <td>16.00</td>\n",
              "      <td>16.00</td>\n",
              "      <td>0.0</td>\n",
              "      <td>0.000000</td>\n",
              "      <td>0.083333</td>\n",
              "      <td>0.083333</td>\n",
              "      <td>0.000000</td>\n",
              "      <td>0.000000</td>\n",
              "      <td>0</td>\n",
              "      <td>1</td>\n",
              "      <td>1200.0</td>\n",
              "      <td>678.334763</td>\n",
              "      <td>244.791237</td>\n",
              "      <td>0.000000</td>\n",
              "      <td>12</td>\n",
              "    </tr>\n",
              "  </tbody>\n",
              "</table>\n",
              "</div>"
            ],
            "text/plain": [
              "  CUST_ID      BALANCE  ...  PRC_FULL_PAYMENT  TENURE\n",
              "0  C10001    40.900749  ...          0.000000      12\n",
              "1  C10002  3202.467416  ...          0.222222      12\n",
              "2  C10003  2495.148862  ...          0.000000      12\n",
              "3  C10004  1666.670542  ...          0.000000      12\n",
              "4  C10005   817.714335  ...          0.000000      12\n",
              "\n",
              "[5 rows x 18 columns]"
            ]
          },
          "metadata": {
            "tags": []
          },
          "execution_count": 105
        }
      ]
    },
    {
      "cell_type": "markdown",
      "metadata": {
        "id": "UTTRZFQJQmXC",
        "colab_type": "text"
      },
      "source": [
        "# Exploratory Data Analysis"
      ]
    },
    {
      "cell_type": "markdown",
      "metadata": {
        "id": "qvz1x9KfO3jt",
        "colab_type": "text"
      },
      "source": [
        "### How many rows/columns are there?"
      ]
    },
    {
      "cell_type": "code",
      "metadata": {
        "id": "DWzrWlMaO5_j",
        "colab_type": "code",
        "outputId": "9efccb7f-88d0-4bb9-9f2a-88036fcbfec1",
        "colab": {
          "base_uri": "https://localhost:8080/",
          "height": 34
        }
      },
      "source": [
        "data.shape"
      ],
      "execution_count": 106,
      "outputs": [
        {
          "output_type": "execute_result",
          "data": {
            "text/plain": [
              "(8950, 18)"
            ]
          },
          "metadata": {
            "tags": []
          },
          "execution_count": 106
        }
      ]
    },
    {
      "cell_type": "markdown",
      "metadata": {
        "id": "0pxHHHgNOWGR",
        "colab_type": "text"
      },
      "source": [
        "### How many customers are there?"
      ]
    },
    {
      "cell_type": "code",
      "metadata": {
        "id": "9ZmesyD9Onuq",
        "colab_type": "code",
        "outputId": "963fbb5f-ad05-4768-acbb-a1b2daff7a4d",
        "colab": {
          "base_uri": "https://localhost:8080/",
          "height": 34
        }
      },
      "source": [
        "data['CUST_ID'].nunique()"
      ],
      "execution_count": 107,
      "outputs": [
        {
          "output_type": "execute_result",
          "data": {
            "text/plain": [
              "8950"
            ]
          },
          "metadata": {
            "tags": []
          },
          "execution_count": 107
        }
      ]
    },
    {
      "cell_type": "markdown",
      "metadata": {
        "id": "iU-MbVEVOwOt",
        "colab_type": "text"
      },
      "source": [
        "This means, we have 8950 unique customer IDs"
      ]
    },
    {
      "cell_type": "markdown",
      "metadata": {
        "id": "YQtt1-BhOzgD",
        "colab_type": "text"
      },
      "source": [
        "### How many of each Tenure are there?"
      ]
    },
    {
      "cell_type": "code",
      "metadata": {
        "id": "KTYBVadJO2i_",
        "colab_type": "code",
        "outputId": "91970675-cd3a-444b-d9cb-46a5c8c3eb27",
        "colab": {
          "base_uri": "https://localhost:8080/",
          "height": 153
        }
      },
      "source": [
        "data['TENURE'].value_counts()"
      ],
      "execution_count": 108,
      "outputs": [
        {
          "output_type": "execute_result",
          "data": {
            "text/plain": [
              "12    7584\n",
              "11     365\n",
              "10     236\n",
              "6      204\n",
              "8      196\n",
              "7      190\n",
              "9      175\n",
              "Name: TENURE, dtype: int64"
            ]
          },
          "metadata": {
            "tags": []
          },
          "execution_count": 108
        }
      ]
    },
    {
      "cell_type": "markdown",
      "metadata": {
        "id": "zFFgUrkzPJ3B",
        "colab_type": "text"
      },
      "source": [
        "Most (85%) of the customers have tenure of 12."
      ]
    },
    {
      "cell_type": "markdown",
      "metadata": {
        "id": "Wd-bIz7p3tGa",
        "colab_type": "text"
      },
      "source": [
        "Remove NaN"
      ]
    },
    {
      "cell_type": "code",
      "metadata": {
        "id": "W2oJgmDS3rBV",
        "colab_type": "code",
        "colab": {}
      },
      "source": [
        "data=data.fillna(0)"
      ],
      "execution_count": 0,
      "outputs": []
    },
    {
      "cell_type": "markdown",
      "metadata": {
        "id": "mLflskPqPQbO",
        "colab_type": "text"
      },
      "source": [
        "### How does the credit limit distribution of our customers look like?"
      ]
    },
    {
      "cell_type": "markdown",
      "metadata": {
        "id": "XJb_1fPLPZjh",
        "colab_type": "text"
      },
      "source": [
        "Descriptive Statistics"
      ]
    },
    {
      "cell_type": "code",
      "metadata": {
        "id": "A0vs8-PiPcYN",
        "colab_type": "code",
        "outputId": "44b7f494-38e0-420d-91af-2c201845b087",
        "colab": {
          "base_uri": "https://localhost:8080/",
          "height": 272
        }
      },
      "source": [
        "data['CREDIT_LIMIT'].describe(np.arange(0.1, 1, 0.1))"
      ],
      "execution_count": 110,
      "outputs": [
        {
          "output_type": "execute_result",
          "data": {
            "text/plain": [
              "count     8950.000000\n",
              "mean      4493.947277\n",
              "std       3638.922543\n",
              "min          0.000000\n",
              "10%       1200.000000\n",
              "20%       1500.000000\n",
              "30%       2000.000000\n",
              "40%       2500.000000\n",
              "50%       3000.000000\n",
              "60%       4200.000000\n",
              "70%       6000.000000\n",
              "80%       7000.000000\n",
              "90%       9500.000000\n",
              "max      30000.000000\n",
              "Name: CREDIT_LIMIT, dtype: float64"
            ]
          },
          "metadata": {
            "tags": []
          },
          "execution_count": 110
        }
      ]
    },
    {
      "cell_type": "markdown",
      "metadata": {
        "id": "43REfwTpPhQh",
        "colab_type": "text"
      },
      "source": [
        "\n",
        "\n",
        "```\n",
        "# This is formatted as code\n",
        "```\n",
        "\n",
        "The Credit Limit ranges from 50 to 30000 with an average (median) annual income is 3000."
      ]
    },
    {
      "cell_type": "code",
      "metadata": {
        "id": "EL7nIQRzPUKr",
        "colab_type": "code",
        "outputId": "f1340314-2c2c-47d8-a0ea-929398f4f52a",
        "colab": {
          "base_uri": "https://localhost:8080/",
          "height": 300
        }
      },
      "source": [
        "sns.distplot(data['CREDIT_LIMIT'], kde=False)"
      ],
      "execution_count": 111,
      "outputs": [
        {
          "output_type": "execute_result",
          "data": {
            "text/plain": [
              "<matplotlib.axes._subplots.AxesSubplot at 0x7f68d4e6b908>"
            ]
          },
          "metadata": {
            "tags": []
          },
          "execution_count": 111
        },
        {
          "output_type": "display_data",
          "data": {
            "image/png": "[encoded data removed]",
            "text/plain": [
              "<Figure size 432x288 with 1 Axes>"
            ]
          },
          "metadata": {
            "tags": []
          }
        }
      ]
    },
    {
      "cell_type": "markdown",
      "metadata": {
        "id": "IUJEe9cDPX0m",
        "colab_type": "text"
      },
      "source": [
        "### How does the purchase distribution look like?"
      ]
    },
    {
      "cell_type": "code",
      "metadata": {
        "id": "2D4DO4vYQZmX",
        "colab_type": "code",
        "outputId": "af365a6b-6604-41c7-c53e-7a874f6480c0",
        "colab": {
          "base_uri": "https://localhost:8080/",
          "height": 272
        }
      },
      "source": [
        "data['PURCHASES'].describe(np.arange(0.1, 1, 0.1))"
      ],
      "execution_count": 112,
      "outputs": [
        {
          "output_type": "execute_result",
          "data": {
            "text/plain": [
              "count     8950.000000\n",
              "mean      1003.204834\n",
              "std       2136.634782\n",
              "min          0.000000\n",
              "10%          0.000000\n",
              "20%          0.000000\n",
              "30%         89.285000\n",
              "40%        212.850000\n",
              "50%        361.280000\n",
              "60%        557.546000\n",
              "70%        894.316000\n",
              "80%       1422.438000\n",
              "90%       2542.624000\n",
              "max      49039.570000\n",
              "Name: PURCHASES, dtype: float64"
            ]
          },
          "metadata": {
            "tags": []
          },
          "execution_count": 112
        }
      ]
    },
    {
      "cell_type": "code",
      "metadata": {
        "id": "MjgtlSe8QdGO",
        "colab_type": "code",
        "outputId": "49b0ba57-f6e3-4511-dfb3-5cb0305a2f88",
        "colab": {
          "base_uri": "https://localhost:8080/",
          "height": 296
        }
      },
      "source": [
        "sns.distplot(data['PURCHASES'], kde=False)"
      ],
      "execution_count": 113,
      "outputs": [
        {
          "output_type": "execute_result",
          "data": {
            "text/plain": [
              "<matplotlib.axes._subplots.AxesSubplot at 0x7f68d4dd1978>"
            ]
          },
          "metadata": {
            "tags": []
          },
          "execution_count": 113
        },
        {
          "output_type": "display_data",
          "data": {
            "image/png": "[encoded data removed]",
            "text/plain": [
              "<Figure size 432x288 with 1 Axes>"
            ]
          },
          "metadata": {
            "tags": []
          }
        }
      ]
    },
    {
      "cell_type": "markdown",
      "metadata": {
        "id": "DT08DMFd5gel",
        "colab_type": "text"
      },
      "source": [
        "### How does the prc payment distribution look like?"
      ]
    },
    {
      "cell_type": "code",
      "metadata": {
        "id": "TBve7DBH5gD_",
        "colab_type": "code",
        "outputId": "064e9859-ba56-4582-9d4f-84e0b178885c",
        "colab": {
          "base_uri": "https://localhost:8080/",
          "height": 272
        }
      },
      "source": [
        "data['TENURE'].describe(np.arange(0.1, 1, 0.1))"
      ],
      "execution_count": 114,
      "outputs": [
        {
          "output_type": "execute_result",
          "data": {
            "text/plain": [
              "count    8950.000000\n",
              "mean       11.517318\n",
              "std         1.338331\n",
              "min         6.000000\n",
              "10%        10.000000\n",
              "20%        12.000000\n",
              "30%        12.000000\n",
              "40%        12.000000\n",
              "50%        12.000000\n",
              "60%        12.000000\n",
              "70%        12.000000\n",
              "80%        12.000000\n",
              "90%        12.000000\n",
              "max        12.000000\n",
              "Name: TENURE, dtype: float64"
            ]
          },
          "metadata": {
            "tags": []
          },
          "execution_count": 114
        }
      ]
    },
    {
      "cell_type": "code",
      "metadata": {
        "id": "5SzBKrtw5xt_",
        "colab_type": "code",
        "outputId": "179050aa-804d-4809-da87-9ce04316c6bc",
        "colab": {
          "base_uri": "https://localhost:8080/",
          "height": 296
        }
      },
      "source": [
        "sns.distplot(data['TENURE'], kde=False)"
      ],
      "execution_count": 115,
      "outputs": [
        {
          "output_type": "execute_result",
          "data": {
            "text/plain": [
              "<matplotlib.axes._subplots.AxesSubplot at 0x7f68d4dbe470>"
            ]
          },
          "metadata": {
            "tags": []
          },
          "execution_count": 115
        },
        {
          "output_type": "display_data",
          "data": {
            "image/png": "[encoded data removed]",
            "text/plain": [
              "<Figure size 432x288 with 1 Axes>"
            ]
          },
          "metadata": {
            "tags": []
          }
        }
      ]
    },
    {
      "cell_type": "code",
      "metadata": {
        "id": "pDH_E6Dv6Q_k",
        "colab_type": "code",
        "outputId": "44b98f99-1a39-43b9-f457-50cfae76aa21",
        "colab": {
          "base_uri": "https://localhost:8080/",
          "height": 272
        }
      },
      "source": [
        "data['BALANCE'].describe(np.arange(0.1, 1, 0.1))"
      ],
      "execution_count": 116,
      "outputs": [
        {
          "output_type": "execute_result",
          "data": {
            "text/plain": [
              "count     8950.000000\n",
              "mean      1564.474828\n",
              "std       2081.531879\n",
              "min          0.000000\n",
              "10%         23.575529\n",
              "20%         77.238026\n",
              "30%        207.176552\n",
              "40%        467.021989\n",
              "50%        873.385231\n",
              "60%       1207.815587\n",
              "70%       1698.588855\n",
              "80%       2571.434263\n",
              "90%       4338.563657\n",
              "max      19043.138560\n",
              "Name: BALANCE, dtype: float64"
            ]
          },
          "metadata": {
            "tags": []
          },
          "execution_count": 116
        }
      ]
    },
    {
      "cell_type": "code",
      "metadata": {
        "id": "6AL8f57o6Ize",
        "colab_type": "code",
        "outputId": "1a069426-5835-4fe5-b1d9-d43ec0193013",
        "colab": {
          "base_uri": "https://localhost:8080/",
          "height": 296
        }
      },
      "source": [
        "sns.distplot(data['BALANCE'], kde=False)"
      ],
      "execution_count": 117,
      "outputs": [
        {
          "output_type": "execute_result",
          "data": {
            "text/plain": [
              "<matplotlib.axes._subplots.AxesSubplot at 0x7f68d4c66ef0>"
            ]
          },
          "metadata": {
            "tags": []
          },
          "execution_count": 117
        },
        {
          "output_type": "display_data",
          "data": {
            "image/png": "[encoded data removed]",
            "text/plain": [
              "<Figure size 432x288 with 1 Axes>"
            ]
          },
          "metadata": {
            "tags": []
          }
        }
      ]
    },
    {
      "cell_type": "markdown",
      "metadata": {
        "id": "gJzKWhQ_Qfvx",
        "colab_type": "text"
      },
      "source": [
        "Purchases and Credit limit are skewed to the left."
      ]
    },
    {
      "cell_type": "markdown",
      "metadata": {
        "id": "rulXVROOQktg",
        "colab_type": "text"
      },
      "source": [
        "# Clustering"
      ]
    },
    {
      "cell_type": "code",
      "metadata": {
        "id": "eh6RPPyKQqbo",
        "colab_type": "code",
        "colab": {}
      },
      "source": [
        "from sklearn.cluster import KMeans"
      ],
      "execution_count": 0,
      "outputs": []
    },
    {
      "cell_type": "code",
      "metadata": {
        "id": "8IL-NAPHXfqY",
        "colab_type": "code",
        "outputId": "6246147d-1a17-4d36-d3ed-68d83e138dc9",
        "colab": {
          "base_uri": "https://localhost:8080/",
          "height": 204
        }
      },
      "source": [
        "# Get features we need\n",
        "features = ['PURCHASES','BALANCE','CREDIT_LIMIT']\n",
        "X = data[features]\n",
        "\n",
        "# Convert categorical to numeric\n",
        "# X = pd.get_dummies(X_raw)\n",
        "# X_raw.head()\n",
        "\n",
        "X.head()"
      ],
      "execution_count": 138,
      "outputs": [
        {
          "output_type": "execute_result",
          "data": {
            "text/html": [
              "<div>\n",
              "<style scoped>\n",
              "    .dataframe tbody tr th:only-of-type {\n",
              "        vertical-align: middle;\n",
              "    }\n",
              "\n",
              "    .dataframe tbody tr th {\n",
              "        vertical-align: top;\n",
              "    }\n",
              "\n",
              "    .dataframe thead th {\n",
              "        text-align: right;\n",
              "    }\n",
              "</style>\n",
              "<table border=\"1\" class=\"dataframe\">\n",
              "  <thead>\n",
              "    <tr style=\"text-align: right;\">\n",
              "      <th></th>\n",
              "      <th>PURCHASES</th>\n",
              "      <th>BALANCE</th>\n",
              "      <th>CREDIT_LIMIT</th>\n",
              "    </tr>\n",
              "  </thead>\n",
              "  <tbody>\n",
              "    <tr>\n",
              "      <th>0</th>\n",
              "      <td>95.40</td>\n",
              "      <td>40.900749</td>\n",
              "      <td>1000.0</td>\n",
              "    </tr>\n",
              "    <tr>\n",
              "      <th>1</th>\n",
              "      <td>0.00</td>\n",
              "      <td>3202.467416</td>\n",
              "      <td>7000.0</td>\n",
              "    </tr>\n",
              "    <tr>\n",
              "      <th>2</th>\n",
              "      <td>773.17</td>\n",
              "      <td>2495.148862</td>\n",
              "      <td>7500.0</td>\n",
              "    </tr>\n",
              "    <tr>\n",
              "      <th>3</th>\n",
              "      <td>1499.00</td>\n",
              "      <td>1666.670542</td>\n",
              "      <td>7500.0</td>\n",
              "    </tr>\n",
              "    <tr>\n",
              "      <th>4</th>\n",
              "      <td>16.00</td>\n",
              "      <td>817.714335</td>\n",
              "      <td>1200.0</td>\n",
              "    </tr>\n",
              "  </tbody>\n",
              "</table>\n",
              "</div>"
            ],
            "text/plain": [
              "   PURCHASES      BALANCE  CREDIT_LIMIT\n",
              "0      95.40    40.900749        1000.0\n",
              "1       0.00  3202.467416        7000.0\n",
              "2     773.17  2495.148862        7500.0\n",
              "3    1499.00  1666.670542        7500.0\n",
              "4      16.00   817.714335        1200.0"
            ]
          },
          "metadata": {
            "tags": []
          },
          "execution_count": 138
        }
      ]
    },
    {
      "cell_type": "markdown",
      "metadata": {
        "id": "cYdb620Teh-4",
        "colab_type": "text"
      },
      "source": [
        "### Choosing Optimal *k*"
      ]
    },
    {
      "cell_type": "code",
      "metadata": {
        "id": "qe3aWEI0ehjG",
        "colab_type": "code",
        "outputId": "4f09e887-0781-4da5-cde7-53901bd3686f",
        "colab": {
          "base_uri": "https://localhost:8080/",
          "height": 293
        }
      },
      "source": [
        "# get the sum of squared errors and find where the reduction of the errors are saturated with the increase of k\n",
        "squared_errors = []\n",
        "\n",
        "for num_iter in range(1,21):\n",
        "  km = KMeans(n_clusters=num_iter, random_state=42)\n",
        "  km.fit(X)\n",
        "  squared_errors.append(km.inertia_)\n",
        "\n",
        "# check for the best k to use\n",
        "plt.plot(squared_errors, marker = 'o')"
      ],
      "execution_count": 139,
      "outputs": [
        {
          "output_type": "execute_result",
          "data": {
            "text/plain": [
              "[<matplotlib.lines.Line2D at 0x7f68d4978cc0>]"
            ]
          },
          "metadata": {
            "tags": []
          },
          "execution_count": 139
        },
        {
          "output_type": "display_data",
          "data": {
            "image/png": "[encoded data removed]",
            "text/plain": [
              "<Figure size 432x288 with 1 Axes>"
            ]
          },
          "metadata": {
            "tags": []
          }
        }
      ]
    },
    {
      "cell_type": "markdown",
      "metadata": {
        "id": "ZYTzOIoVerNG",
        "colab_type": "text"
      },
      "source": [
        "Using the elbow method, I decided to use *k=3*.\n"
      ]
    },
    {
      "cell_type": "code",
      "metadata": {
        "id": "l8QUoI4DX7Nf",
        "colab_type": "code",
        "colab": {}
      },
      "source": [
        "# Clustering using KMeans. We choose 5 clusters\n",
        "km = KMeans(n_clusters=5, random_state=42)\n",
        "\n",
        "# Fit data to model\n",
        "km.fit(X)\n",
        "\n",
        "# Get labels\n",
        "labels = km.predict(X)\n",
        "\n",
        "# Create new dataframe with features and labels\n",
        "new_data = X.copy()\n",
        "\n",
        "# Add labels to new_data dataframe\n",
        "new_data['labels'] = labels"
      ],
      "execution_count": 0,
      "outputs": []
    },
    {
      "cell_type": "code",
      "metadata": {
        "id": "1gCNHjXlZQBo",
        "colab_type": "code",
        "outputId": "38da623d-07a9-45c1-9a76-e1f63bac08ef",
        "colab": {
          "base_uri": "https://localhost:8080/",
          "height": 204
        }
      },
      "source": [
        "new_data.head()"
      ],
      "execution_count": 141,
      "outputs": [
        {
          "output_type": "execute_result",
          "data": {
            "text/html": [
              "<div>\n",
              "<style scoped>\n",
              "    .dataframe tbody tr th:only-of-type {\n",
              "        vertical-align: middle;\n",
              "    }\n",
              "\n",
              "    .dataframe tbody tr th {\n",
              "        vertical-align: top;\n",
              "    }\n",
              "\n",
              "    .dataframe thead th {\n",
              "        text-align: right;\n",
              "    }\n",
              "</style>\n",
              "<table border=\"1\" class=\"dataframe\">\n",
              "  <thead>\n",
              "    <tr style=\"text-align: right;\">\n",
              "      <th></th>\n",
              "      <th>PURCHASES</th>\n",
              "      <th>BALANCE</th>\n",
              "      <th>CREDIT_LIMIT</th>\n",
              "      <th>labels</th>\n",
              "    </tr>\n",
              "  </thead>\n",
              "  <tbody>\n",
              "    <tr>\n",
              "      <th>0</th>\n",
              "      <td>95.40</td>\n",
              "      <td>40.900749</td>\n",
              "      <td>1000.0</td>\n",
              "      <td>1</td>\n",
              "    </tr>\n",
              "    <tr>\n",
              "      <th>1</th>\n",
              "      <td>0.00</td>\n",
              "      <td>3202.467416</td>\n",
              "      <td>7000.0</td>\n",
              "      <td>3</td>\n",
              "    </tr>\n",
              "    <tr>\n",
              "      <th>2</th>\n",
              "      <td>773.17</td>\n",
              "      <td>2495.148862</td>\n",
              "      <td>7500.0</td>\n",
              "      <td>3</td>\n",
              "    </tr>\n",
              "    <tr>\n",
              "      <th>3</th>\n",
              "      <td>1499.00</td>\n",
              "      <td>1666.670542</td>\n",
              "      <td>7500.0</td>\n",
              "      <td>3</td>\n",
              "    </tr>\n",
              "    <tr>\n",
              "      <th>4</th>\n",
              "      <td>16.00</td>\n",
              "      <td>817.714335</td>\n",
              "      <td>1200.0</td>\n",
              "      <td>1</td>\n",
              "    </tr>\n",
              "  </tbody>\n",
              "</table>\n",
              "</div>"
            ],
            "text/plain": [
              "   PURCHASES      BALANCE  CREDIT_LIMIT  labels\n",
              "0      95.40    40.900749        1000.0       1\n",
              "1       0.00  3202.467416        7000.0       3\n",
              "2     773.17  2495.148862        7500.0       3\n",
              "3    1499.00  1666.670542        7500.0       3\n",
              "4      16.00   817.714335        1200.0       1"
            ]
          },
          "metadata": {
            "tags": []
          },
          "execution_count": 141
        }
      ]
    },
    {
      "cell_type": "markdown",
      "metadata": {
        "id": "8jGkTtvdbGeO",
        "colab_type": "text"
      },
      "source": [
        "### Plot Centers and labels"
      ]
    },
    {
      "cell_type": "code",
      "metadata": {
        "colab_type": "code",
        "outputId": "93092b8d-cd3d-4a0d-e83d-06963caaa67f",
        "id": "Gk6JOvjIyIYj",
        "colab": {
          "base_uri": "https://localhost:8080/",
          "height": 621
        }
      },
      "source": [
        "# Plot data points and colorize based on label\n",
        "new_data.plot.scatter(x='CREDIT_LIMIT', \n",
        "                      y='PURCHASES', \n",
        "                      c='labels', \n",
        "                      cmap='viridis',\n",
        "                      figsize=(20, 10))\n",
        "\n",
        "# Get cluster centers\n",
        "centers = km.cluster_centers_\n",
        "plt.scatter(centers[:,0],centers[:,1], s=200, color='black')"
      ],
      "execution_count": 142,
      "outputs": [
        {
          "output_type": "execute_result",
          "data": {
            "text/plain": [
              "<matplotlib.collections.PathCollection at 0x7f68d493e978>"
            ]
          },
          "metadata": {
            "tags": []
          },
          "execution_count": 142
        },
        {
          "output_type": "display_data",
          "data": {
            "image/png": "[encoded data removed]",
            "text/plain": [
              "<Figure size 1440x720 with 2 Axes>"
            ]
          },
          "metadata": {
            "tags": []
          }
        }
      ]
    },
    {
      "cell_type": "markdown",
      "metadata": {
        "id": "I-FwRETgaoKT",
        "colab_type": "text"
      },
      "source": [
        "# Deep Dive to each cluster"
      ]
    },
    {
      "cell_type": "code",
      "metadata": {
        "id": "DjCzSJYLc6Kv",
        "colab_type": "code",
        "outputId": "a41512c2-e9f8-4f87-8d49-cbcc32ac85f5",
        "colab": {
          "base_uri": "https://localhost:8080/",
          "height": 297
        }
      },
      "source": [
        "# Cluster 0\n",
        "cluster_0 = new_data[new_data['labels']==0]\n",
        "cluster_0.describe()"
      ],
      "execution_count": 143,
      "outputs": [
        {
          "output_type": "execute_result",
          "data": {
            "text/html": [
              "<div>\n",
              "<style scoped>\n",
              "    .dataframe tbody tr th:only-of-type {\n",
              "        vertical-align: middle;\n",
              "    }\n",
              "\n",
              "    .dataframe tbody tr th {\n",
              "        vertical-align: top;\n",
              "    }\n",
              "\n",
              "    .dataframe thead th {\n",
              "        text-align: right;\n",
              "    }\n",
              "</style>\n",
              "<table border=\"1\" class=\"dataframe\">\n",
              "  <thead>\n",
              "    <tr style=\"text-align: right;\">\n",
              "      <th></th>\n",
              "      <th>PURCHASES</th>\n",
              "      <th>BALANCE</th>\n",
              "      <th>CREDIT_LIMIT</th>\n",
              "      <th>labels</th>\n",
              "    </tr>\n",
              "  </thead>\n",
              "  <tbody>\n",
              "    <tr>\n",
              "      <th>count</th>\n",
              "      <td>581.000000</td>\n",
              "      <td>581.000000</td>\n",
              "      <td>581.000000</td>\n",
              "      <td>581.0</td>\n",
              "    </tr>\n",
              "    <tr>\n",
              "      <th>mean</th>\n",
              "      <td>1814.171377</td>\n",
              "      <td>1156.244344</td>\n",
              "      <td>11670.654045</td>\n",
              "      <td>0.0</td>\n",
              "    </tr>\n",
              "    <tr>\n",
              "      <th>std</th>\n",
              "      <td>2017.613692</td>\n",
              "      <td>1331.270592</td>\n",
              "      <td>2856.763647</td>\n",
              "      <td>0.0</td>\n",
              "    </tr>\n",
              "    <tr>\n",
              "      <th>min</th>\n",
              "      <td>0.000000</td>\n",
              "      <td>0.000000</td>\n",
              "      <td>8500.000000</td>\n",
              "      <td>0.0</td>\n",
              "    </tr>\n",
              "    <tr>\n",
              "      <th>25%</th>\n",
              "      <td>319.920000</td>\n",
              "      <td>123.089579</td>\n",
              "      <td>10000.000000</td>\n",
              "      <td>0.0</td>\n",
              "    </tr>\n",
              "    <tr>\n",
              "      <th>50%</th>\n",
              "      <td>1109.910000</td>\n",
              "      <td>447.941813</td>\n",
              "      <td>10500.000000</td>\n",
              "      <td>0.0</td>\n",
              "    </tr>\n",
              "    <tr>\n",
              "      <th>75%</th>\n",
              "      <td>2673.730000</td>\n",
              "      <td>2206.463745</td>\n",
              "      <td>13000.000000</td>\n",
              "      <td>0.0</td>\n",
              "    </tr>\n",
              "    <tr>\n",
              "      <th>max</th>\n",
              "      <td>9249.730000</td>\n",
              "      <td>4766.360515</td>\n",
              "      <td>30000.000000</td>\n",
              "      <td>0.0</td>\n",
              "    </tr>\n",
              "  </tbody>\n",
              "</table>\n",
              "</div>"
            ],
            "text/plain": [
              "         PURCHASES      BALANCE  CREDIT_LIMIT  labels\n",
              "count   581.000000   581.000000    581.000000   581.0\n",
              "mean   1814.171377  1156.244344  11670.654045     0.0\n",
              "std    2017.613692  1331.270592   2856.763647     0.0\n",
              "min       0.000000     0.000000   8500.000000     0.0\n",
              "25%     319.920000   123.089579  10000.000000     0.0\n",
              "50%    1109.910000   447.941813  10500.000000     0.0\n",
              "75%    2673.730000  2206.463745  13000.000000     0.0\n",
              "max    9249.730000  4766.360515  30000.000000     0.0"
            ]
          },
          "metadata": {
            "tags": []
          },
          "execution_count": 143
        }
      ]
    },
    {
      "cell_type": "markdown",
      "metadata": {
        "id": "hnXVR-YRdgss",
        "colab_type": "text"
      },
      "source": [
        "###Cluster 0: Pa-safe\n",
        "\n",
        "- High credit limit, mid purchases, low balance\n",
        "- Di masyado macredit card, Nagbabayad agad. Just here for cashless transactions. Pwede pa entice with promos to buy high ticket items.\n"
      ]
    },
    {
      "cell_type": "code",
      "metadata": {
        "id": "GjJcGRJebtu6",
        "colab_type": "code",
        "outputId": "5987d063-7e4b-426d-b6a3-5f43ab6e59c9",
        "colab": {
          "base_uri": "https://localhost:8080/",
          "height": 297
        }
      },
      "source": [
        "# Cluster 1 \n",
        "cluster_1 = new_data[new_data['labels']==1]\n",
        "cluster_1.describe()"
      ],
      "execution_count": 144,
      "outputs": [
        {
          "output_type": "execute_result",
          "data": {
            "text/html": [
              "<div>\n",
              "<style scoped>\n",
              "    .dataframe tbody tr th:only-of-type {\n",
              "        vertical-align: middle;\n",
              "    }\n",
              "\n",
              "    .dataframe tbody tr th {\n",
              "        vertical-align: top;\n",
              "    }\n",
              "\n",
              "    .dataframe thead th {\n",
              "        text-align: right;\n",
              "    }\n",
              "</style>\n",
              "<table border=\"1\" class=\"dataframe\">\n",
              "  <thead>\n",
              "    <tr style=\"text-align: right;\">\n",
              "      <th></th>\n",
              "      <th>PURCHASES</th>\n",
              "      <th>BALANCE</th>\n",
              "      <th>CREDIT_LIMIT</th>\n",
              "      <th>labels</th>\n",
              "    </tr>\n",
              "  </thead>\n",
              "  <tbody>\n",
              "    <tr>\n",
              "      <th>count</th>\n",
              "      <td>5253.000000</td>\n",
              "      <td>5253.000000</td>\n",
              "      <td>5253.000000</td>\n",
              "      <td>5253.0</td>\n",
              "    </tr>\n",
              "    <tr>\n",
              "      <th>mean</th>\n",
              "      <td>515.199056</td>\n",
              "      <td>775.483684</td>\n",
              "      <td>2093.801108</td>\n",
              "      <td>1.0</td>\n",
              "    </tr>\n",
              "    <tr>\n",
              "      <th>std</th>\n",
              "      <td>755.207898</td>\n",
              "      <td>780.523802</td>\n",
              "      <td>974.780905</td>\n",
              "      <td>0.0</td>\n",
              "    </tr>\n",
              "    <tr>\n",
              "      <th>min</th>\n",
              "      <td>0.000000</td>\n",
              "      <td>0.000000</td>\n",
              "      <td>0.000000</td>\n",
              "      <td>1.0</td>\n",
              "    </tr>\n",
              "    <tr>\n",
              "      <th>25%</th>\n",
              "      <td>2.000000</td>\n",
              "      <td>72.033516</td>\n",
              "      <td>1200.000000</td>\n",
              "      <td>1.0</td>\n",
              "    </tr>\n",
              "    <tr>\n",
              "      <th>50%</th>\n",
              "      <td>247.450000</td>\n",
              "      <td>542.051302</td>\n",
              "      <td>2000.000000</td>\n",
              "      <td>1.0</td>\n",
              "    </tr>\n",
              "    <tr>\n",
              "      <th>75%</th>\n",
              "      <td>662.400000</td>\n",
              "      <td>1250.394614</td>\n",
              "      <td>3000.000000</td>\n",
              "      <td>1.0</td>\n",
              "    </tr>\n",
              "    <tr>\n",
              "      <th>max</th>\n",
              "      <td>8591.310000</td>\n",
              "      <td>3572.844689</td>\n",
              "      <td>4500.000000</td>\n",
              "      <td>1.0</td>\n",
              "    </tr>\n",
              "  </tbody>\n",
              "</table>\n",
              "</div>"
            ],
            "text/plain": [
              "         PURCHASES      BALANCE  CREDIT_LIMIT  labels\n",
              "count  5253.000000  5253.000000   5253.000000  5253.0\n",
              "mean    515.199056   775.483684   2093.801108     1.0\n",
              "std     755.207898   780.523802    974.780905     0.0\n",
              "min       0.000000     0.000000      0.000000     1.0\n",
              "25%       2.000000    72.033516   1200.000000     1.0\n",
              "50%     247.450000   542.051302   2000.000000     1.0\n",
              "75%     662.400000  1250.394614   3000.000000     1.0\n",
              "max    8591.310000  3572.844689   4500.000000     1.0"
            ]
          },
          "metadata": {
            "tags": []
          },
          "execution_count": 144
        }
      ]
    },
    {
      "cell_type": "markdown",
      "metadata": {
        "id": "TAu_kbMvdl0C",
        "colab_type": "text"
      },
      "source": [
        "Cluster 1: Tipid\n",
        "- low purchases, low balance,low credit limit\n",
        "- Newbie sa credit card, Takot sa utang, di rin masyado naeengganyo with the low credit limit, Pwede pa entice with promos to entice credit card activity."
      ]
    },
    {
      "cell_type": "code",
      "metadata": {
        "id": "H5ssZ-z9bvLZ",
        "colab_type": "code",
        "outputId": "f18a10b0-1990-40bb-bc73-19819f0e7ad2",
        "colab": {
          "base_uri": "https://localhost:8080/",
          "height": 297
        }
      },
      "source": [
        "# Cluster 2\n",
        "cluster_2 = new_data[new_data['labels']==2]\n",
        "cluster_2.describe()"
      ],
      "execution_count": 145,
      "outputs": [
        {
          "output_type": "execute_result",
          "data": {
            "text/html": [
              "<div>\n",
              "<style scoped>\n",
              "    .dataframe tbody tr th:only-of-type {\n",
              "        vertical-align: middle;\n",
              "    }\n",
              "\n",
              "    .dataframe tbody tr th {\n",
              "        vertical-align: top;\n",
              "    }\n",
              "\n",
              "    .dataframe thead th {\n",
              "        text-align: right;\n",
              "    }\n",
              "</style>\n",
              "<table border=\"1\" class=\"dataframe\">\n",
              "  <thead>\n",
              "    <tr style=\"text-align: right;\">\n",
              "      <th></th>\n",
              "      <th>PURCHASES</th>\n",
              "      <th>BALANCE</th>\n",
              "      <th>CREDIT_LIMIT</th>\n",
              "      <th>labels</th>\n",
              "    </tr>\n",
              "  </thead>\n",
              "  <tbody>\n",
              "    <tr>\n",
              "      <th>count</th>\n",
              "      <td>89.000000</td>\n",
              "      <td>89.000000</td>\n",
              "      <td>89.000000</td>\n",
              "      <td>89.0</td>\n",
              "    </tr>\n",
              "    <tr>\n",
              "      <th>mean</th>\n",
              "      <td>15684.689663</td>\n",
              "      <td>4645.234124</td>\n",
              "      <td>12615.168539</td>\n",
              "      <td>2.0</td>\n",
              "    </tr>\n",
              "    <tr>\n",
              "      <th>std</th>\n",
              "      <td>8549.862473</td>\n",
              "      <td>3809.247335</td>\n",
              "      <td>5151.800240</td>\n",
              "      <td>0.0</td>\n",
              "    </tr>\n",
              "    <tr>\n",
              "      <th>min</th>\n",
              "      <td>8403.170000</td>\n",
              "      <td>348.342172</td>\n",
              "      <td>2800.000000</td>\n",
              "      <td>2.0</td>\n",
              "    </tr>\n",
              "    <tr>\n",
              "      <th>25%</th>\n",
              "      <td>10221.350000</td>\n",
              "      <td>1917.441126</td>\n",
              "      <td>9000.000000</td>\n",
              "      <td>2.0</td>\n",
              "    </tr>\n",
              "    <tr>\n",
              "      <th>50%</th>\n",
              "      <td>11681.640000</td>\n",
              "      <td>3123.339488</td>\n",
              "      <td>12000.000000</td>\n",
              "      <td>2.0</td>\n",
              "    </tr>\n",
              "    <tr>\n",
              "      <th>75%</th>\n",
              "      <td>17945.000000</td>\n",
              "      <td>6372.182817</td>\n",
              "      <td>16500.000000</td>\n",
              "      <td>2.0</td>\n",
              "    </tr>\n",
              "    <tr>\n",
              "      <th>max</th>\n",
              "      <td>49039.570000</td>\n",
              "      <td>19043.138560</td>\n",
              "      <td>30000.000000</td>\n",
              "      <td>2.0</td>\n",
              "    </tr>\n",
              "  </tbody>\n",
              "</table>\n",
              "</div>"
            ],
            "text/plain": [
              "          PURCHASES       BALANCE  CREDIT_LIMIT  labels\n",
              "count     89.000000     89.000000     89.000000    89.0\n",
              "mean   15684.689663   4645.234124  12615.168539     2.0\n",
              "std     8549.862473   3809.247335   5151.800240     0.0\n",
              "min     8403.170000    348.342172   2800.000000     2.0\n",
              "25%    10221.350000   1917.441126   9000.000000     2.0\n",
              "50%    11681.640000   3123.339488  12000.000000     2.0\n",
              "75%    17945.000000   6372.182817  16500.000000     2.0\n",
              "max    49039.570000  19043.138560  30000.000000     2.0"
            ]
          },
          "metadata": {
            "tags": []
          },
          "execution_count": 145
        }
      ]
    },
    {
      "cell_type": "markdown",
      "metadata": {
        "id": "_5ypez6tdxis",
        "colab_type": "text"
      },
      "source": [
        "Cluster 2: Alta\n",
        "- High Purchases, High Credit Limit, Low Balance\n",
        "- Mayaman, accomplished, madaming pera, nagsswipe ng di nag-iisip kasi afford naman niya.\n",
        "- Pwede pa entice to have more credit card activity by increasing credit card limit. "
      ]
    },
    {
      "cell_type": "code",
      "metadata": {
        "id": "-N6iG4cQctfi",
        "colab_type": "code",
        "outputId": "daee2a91-b31d-424b-9ed6-206c1f227e5d",
        "colab": {
          "base_uri": "https://localhost:8080/",
          "height": 297
        }
      },
      "source": [
        "# Cluster 3\n",
        "cluster_3 = new_data[new_data['labels']==3]\n",
        "cluster_3.describe()"
      ],
      "execution_count": 146,
      "outputs": [
        {
          "output_type": "execute_result",
          "data": {
            "text/html": [
              "<div>\n",
              "<style scoped>\n",
              "    .dataframe tbody tr th:only-of-type {\n",
              "        vertical-align: middle;\n",
              "    }\n",
              "\n",
              "    .dataframe tbody tr th {\n",
              "        vertical-align: top;\n",
              "    }\n",
              "\n",
              "    .dataframe thead th {\n",
              "        text-align: right;\n",
              "    }\n",
              "</style>\n",
              "<table border=\"1\" class=\"dataframe\">\n",
              "  <thead>\n",
              "    <tr style=\"text-align: right;\">\n",
              "      <th></th>\n",
              "      <th>PURCHASES</th>\n",
              "      <th>BALANCE</th>\n",
              "      <th>CREDIT_LIMIT</th>\n",
              "      <th>labels</th>\n",
              "    </tr>\n",
              "  </thead>\n",
              "  <tbody>\n",
              "    <tr>\n",
              "      <th>count</th>\n",
              "      <td>2464.000000</td>\n",
              "      <td>2464.000000</td>\n",
              "      <td>2464.000000</td>\n",
              "      <td>2464.0</td>\n",
              "    </tr>\n",
              "    <tr>\n",
              "      <th>mean</th>\n",
              "      <td>1247.773502</td>\n",
              "      <td>1921.575173</td>\n",
              "      <td>6101.984947</td>\n",
              "      <td>3.0</td>\n",
              "    </tr>\n",
              "    <tr>\n",
              "      <th>std</th>\n",
              "      <td>1573.423799</td>\n",
              "      <td>1734.139542</td>\n",
              "      <td>1293.783505</td>\n",
              "      <td>0.0</td>\n",
              "    </tr>\n",
              "    <tr>\n",
              "      <th>min</th>\n",
              "      <td>0.000000</td>\n",
              "      <td>0.000000</td>\n",
              "      <td>3000.000000</td>\n",
              "      <td>3.0</td>\n",
              "    </tr>\n",
              "    <tr>\n",
              "      <th>25%</th>\n",
              "      <td>93.240000</td>\n",
              "      <td>252.546989</td>\n",
              "      <td>5000.000000</td>\n",
              "      <td>3.0</td>\n",
              "    </tr>\n",
              "    <tr>\n",
              "      <th>50%</th>\n",
              "      <td>673.700000</td>\n",
              "      <td>1563.547288</td>\n",
              "      <td>6000.000000</td>\n",
              "      <td>3.0</td>\n",
              "    </tr>\n",
              "    <tr>\n",
              "      <th>75%</th>\n",
              "      <td>1815.185000</td>\n",
              "      <td>3258.988388</td>\n",
              "      <td>7000.000000</td>\n",
              "      <td>3.0</td>\n",
              "    </tr>\n",
              "    <tr>\n",
              "      <th>max</th>\n",
              "      <td>9751.900000</td>\n",
              "      <td>6832.111113</td>\n",
              "      <td>9000.000000</td>\n",
              "      <td>3.0</td>\n",
              "    </tr>\n",
              "  </tbody>\n",
              "</table>\n",
              "</div>"
            ],
            "text/plain": [
              "         PURCHASES      BALANCE  CREDIT_LIMIT  labels\n",
              "count  2464.000000  2464.000000   2464.000000  2464.0\n",
              "mean   1247.773502  1921.575173   6101.984947     3.0\n",
              "std    1573.423799  1734.139542   1293.783505     0.0\n",
              "min       0.000000     0.000000   3000.000000     3.0\n",
              "25%      93.240000   252.546989   5000.000000     3.0\n",
              "50%     673.700000  1563.547288   6000.000000     3.0\n",
              "75%    1815.185000  3258.988388   7000.000000     3.0\n",
              "max    9751.900000  6832.111113   9000.000000     3.0"
            ]
          },
          "metadata": {
            "tags": []
          },
          "execution_count": 146
        }
      ]
    },
    {
      "cell_type": "markdown",
      "metadata": {
        "id": "6AudyQ7Pd1TP",
        "colab_type": "text"
      },
      "source": [
        "Cluster 3: Getting There.\n",
        "- Mid Purchases, Mid Balance, Mid Credit Limit\n",
        "- Getting there. Akyat pa more sa corporate ladder. Give them some time to grow."
      ]
    },
    {
      "cell_type": "code",
      "metadata": {
        "id": "u_Kuic6kcvmu",
        "colab_type": "code",
        "outputId": "eafdecc4-b7ed-4ea8-8b65-380ac8fff8d2",
        "colab": {
          "base_uri": "https://localhost:8080/",
          "height": 297
        }
      },
      "source": [
        "# Cluster 4\n",
        "cluster_4 = new_data[new_data['labels']==4]\n",
        "cluster_4.describe()"
      ],
      "execution_count": 149,
      "outputs": [
        {
          "output_type": "execute_result",
          "data": {
            "text/html": [
              "<div>\n",
              "<style scoped>\n",
              "    .dataframe tbody tr th:only-of-type {\n",
              "        vertical-align: middle;\n",
              "    }\n",
              "\n",
              "    .dataframe tbody tr th {\n",
              "        vertical-align: top;\n",
              "    }\n",
              "\n",
              "    .dataframe thead th {\n",
              "        text-align: right;\n",
              "    }\n",
              "</style>\n",
              "<table border=\"1\" class=\"dataframe\">\n",
              "  <thead>\n",
              "    <tr style=\"text-align: right;\">\n",
              "      <th></th>\n",
              "      <th>PURCHASES</th>\n",
              "      <th>BALANCE</th>\n",
              "      <th>CREDIT_LIMIT</th>\n",
              "      <th>labels</th>\n",
              "    </tr>\n",
              "  </thead>\n",
              "  <tbody>\n",
              "    <tr>\n",
              "      <th>count</th>\n",
              "      <td>563.000000</td>\n",
              "      <td>563.000000</td>\n",
              "      <td>563.000000</td>\n",
              "      <td>563.0</td>\n",
              "    </tr>\n",
              "    <tr>\n",
              "      <th>mean</th>\n",
              "      <td>1328.344156</td>\n",
              "      <td>7297.458065</td>\n",
              "      <td>11160.568384</td>\n",
              "      <td>4.0</td>\n",
              "    </tr>\n",
              "    <tr>\n",
              "      <th>std</th>\n",
              "      <td>1859.675652</td>\n",
              "      <td>2245.113076</td>\n",
              "      <td>2943.603844</td>\n",
              "      <td>0.0</td>\n",
              "    </tr>\n",
              "    <tr>\n",
              "      <th>min</th>\n",
              "      <td>0.000000</td>\n",
              "      <td>4007.610043</td>\n",
              "      <td>7000.000000</td>\n",
              "      <td>4.0</td>\n",
              "    </tr>\n",
              "    <tr>\n",
              "      <th>25%</th>\n",
              "      <td>0.000000</td>\n",
              "      <td>5724.426508</td>\n",
              "      <td>9000.000000</td>\n",
              "      <td>4.0</td>\n",
              "    </tr>\n",
              "    <tr>\n",
              "      <th>50%</th>\n",
              "      <td>410.240000</td>\n",
              "      <td>6886.213231</td>\n",
              "      <td>10500.000000</td>\n",
              "      <td>4.0</td>\n",
              "    </tr>\n",
              "    <tr>\n",
              "      <th>75%</th>\n",
              "      <td>1868.545000</td>\n",
              "      <td>8189.939207</td>\n",
              "      <td>12500.000000</td>\n",
              "      <td>4.0</td>\n",
              "    </tr>\n",
              "    <tr>\n",
              "      <th>max</th>\n",
              "      <td>8533.540000</td>\n",
              "      <td>18495.558550</td>\n",
              "      <td>22000.000000</td>\n",
              "      <td>4.0</td>\n",
              "    </tr>\n",
              "  </tbody>\n",
              "</table>\n",
              "</div>"
            ],
            "text/plain": [
              "         PURCHASES       BALANCE  CREDIT_LIMIT  labels\n",
              "count   563.000000    563.000000    563.000000   563.0\n",
              "mean   1328.344156   7297.458065  11160.568384     4.0\n",
              "std    1859.675652   2245.113076   2943.603844     0.0\n",
              "min       0.000000   4007.610043   7000.000000     4.0\n",
              "25%       0.000000   5724.426508   9000.000000     4.0\n",
              "50%     410.240000   6886.213231  10500.000000     4.0\n",
              "75%    1868.545000   8189.939207  12500.000000     4.0\n",
              "max    8533.540000  18495.558550  22000.000000     4.0"
            ]
          },
          "metadata": {
            "tags": []
          },
          "execution_count": 149
        }
      ]
    },
    {
      "cell_type": "markdown",
      "metadata": {
        "id": "izqksJNBd5sp",
        "colab_type": "text"
      },
      "source": [
        "Cluster 4: Trigger Happy, Walang Cash\n",
        "\n",
        "- Low Purchases, High Balance, High Credit Limit\n",
        "- Credit card on everyday transactions. But keeps a mid balance and di treats credit card balances as normal."
      ]
    },
    {
      "cell_type": "markdown",
      "metadata": {
        "id": "yV5oJTShfFie",
        "colab_type": "text"
      },
      "source": [
        "# Exercise: Add more features to X and see the results of the clusters."
      ]
    },
    {
      "cell_type": "markdown",
      "metadata": {
        "id": "beVy_W7J3tTG",
        "colab_type": "text"
      },
      "source": [
        "# Explore [Agglomerative Clustering](https://colab.research.google.com/drive/1IcjI_ac1gNipwTZv3WYYzeQNx-arqRl7)\n"
      ]
    },
    {
      "cell_type": "markdown",
      "metadata": {
        "id": "qivPXosmD6ay",
        "colab_type": "text"
      },
      "source": [
        "# Homework: Perform Clustering on [Credit Card Dataset](https://drive.google.com/file/d/1EtH7Y4Y8zVcUWj9y3EnU1i7Vx2By2_LI/view?usp=sharing)."
      ]
    }
  ]
}